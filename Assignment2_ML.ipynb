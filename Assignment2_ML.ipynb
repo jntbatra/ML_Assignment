{
  "cells": [
    {
      "cell_type": "markdown",
      "metadata": {
        "id": "WO93PB5nSu5T"
      },
      "source": [
        "**Assignment 2**<br>\n",
        "Name : Harshita<br>\n",
        "Roll Number: 102317003<br>\n",
        "Sub-group: 3Q11\n"
      ]
    },
    {
      "cell_type": "markdown",
      "metadata": {
        "id": "ct1hliOSQ3NT"
      },
      "source": [
        "**Part I : Based on Feature Selection, Cleaning, and Preprocessing to Construct an Input from Data Source.**"
      ]
    },
    {
      "cell_type": "markdown",
      "metadata": {
        "id": "WDW1zk9EREES"
      },
      "source": [
        "(a) Examine the values of each attribute and Select a set of attributes only that would affect to predict\n",
        "future bike buyers to create your input for data mining algorithms. Remove all the unnecessary\n",
        "attributes. (Select features just by analysis)."
      ]
    },
    {
      "cell_type": "code",
      "execution_count": 7,
      "metadata": {
        "id": "PcHFKf39Utsf"
      },
      "outputs": [],
      "source": [
        "import pandas as pd\n",
        "import numpy as np\n",
        "from sklearn.preprocessing import StandardScaler,MinMaxScaler,KBinsDiscretizer,OneHotEncoder,LabelEncoder\n",
        "from sklearn.metrics.pairwise import cosine_similarity"
      ]
    },
    {
      "cell_type": "code",
      "execution_count": 8,
      "metadata": {
        "colab": {
          "base_uri": "https://localhost:8080/"
        },
        "collapsed": true,
        "id": "osgV8MgoNmN9",
        "outputId": "b8ee9ec1-6e57-45e3-8c74-07765c0ec572"
      },
      "outputs": [
        {
          "name": "stdout",
          "output_type": "stream",
          "text": [
            "(18361, 24)\n",
            "<class 'pandas.core.frame.DataFrame'>\n",
            "RangeIndex: 18361 entries, 0 to 18360\n",
            "Data columns (total 24 columns):\n",
            " #   Column                Non-Null Count  Dtype \n",
            "---  ------                --------------  ----- \n",
            " 0   CustomerID            18361 non-null  int64 \n",
            " 1   Title                 101 non-null    object\n",
            " 2   FirstName             18361 non-null  object\n",
            " 3   MiddleName            10572 non-null  object\n",
            " 4   LastName              18361 non-null  object\n",
            " 5   Suffix                3 non-null      object\n",
            " 6   AddressLine1          18361 non-null  object\n",
            " 7   AddressLine2          311 non-null    object\n",
            " 8   City                  18361 non-null  object\n",
            " 9   StateProvinceName     18361 non-null  object\n",
            " 10  CountryRegionName     18361 non-null  object\n",
            " 11  PostalCode            18361 non-null  object\n",
            " 12  PhoneNumber           18361 non-null  object\n",
            " 13  BirthDate             18361 non-null  object\n",
            " 14  Education             18361 non-null  object\n",
            " 15  Occupation            18361 non-null  object\n",
            " 16  Gender                18361 non-null  object\n",
            " 17  MaritalStatus         18361 non-null  object\n",
            " 18  HomeOwnerFlag         18361 non-null  int64 \n",
            " 19  NumberCarsOwned       18361 non-null  int64 \n",
            " 20  NumberChildrenAtHome  18361 non-null  int64 \n",
            " 21  TotalChildren         18361 non-null  int64 \n",
            " 22  YearlyIncome          18361 non-null  int64 \n",
            " 23  LastUpdated           18361 non-null  object\n",
            "dtypes: int64(6), object(18)\n",
            "memory usage: 3.4+ MB\n",
            "None\n",
            "          CustomerID Title  FirstName MiddleName LastName Suffix  \\\n",
            "count   18361.000000   101      18361      10572    18361      3   \n",
            "unique           NaN     5        670         44      375      1   \n",
            "top              NaN   Mr.  Katherine          A     Diaz    Jr.   \n",
            "freq             NaN    52         97       1287      209      3   \n",
            "mean    20241.987092   NaN        NaN        NaN      NaN    NaN   \n",
            "std      5336.332731   NaN        NaN        NaN      NaN    NaN   \n",
            "min     11000.000000   NaN        NaN        NaN      NaN    NaN   \n",
            "25%     15621.000000   NaN        NaN        NaN      NaN    NaN   \n",
            "50%     20248.000000   NaN        NaN        NaN      NaN    NaN   \n",
            "75%     24863.000000   NaN        NaN        NaN      NaN    NaN   \n",
            "max     29483.000000   NaN        NaN        NaN      NaN    NaN   \n",
            "\n",
            "             AddressLine1       AddressLine2    City StateProvinceName  ...  \\\n",
            "count               18361                311   18361             18361  ...   \n",
            "unique              12742                166     269                54  ...   \n",
            "top     Attaché de Presse  Verkaufsabteilung  London        California  ...   \n",
            "freq                   17                 34     420              4410  ...   \n",
            "mean                  NaN                NaN     NaN               NaN  ...   \n",
            "std                   NaN                NaN     NaN               NaN  ...   \n",
            "min                   NaN                NaN     NaN               NaN  ...   \n",
            "25%                   NaN                NaN     NaN               NaN  ...   \n",
            "50%                   NaN                NaN     NaN               NaN  ...   \n",
            "75%                   NaN                NaN     NaN               NaN  ...   \n",
            "max                   NaN                NaN     NaN               NaN  ...   \n",
            "\n",
            "        Education      Occupation Gender MaritalStatus HomeOwnerFlag  \\\n",
            "count       18361           18361  18361         18361  18361.000000   \n",
            "unique          5               5      2             2           NaN   \n",
            "top     Bachelors  Skilled Manual      M             M           NaN   \n",
            "freq         5325            6059   9287          9947           NaN   \n",
            "mean          NaN             NaN    NaN           NaN      0.610588   \n",
            "std           NaN             NaN    NaN           NaN      0.487630   \n",
            "min           NaN             NaN    NaN           NaN      0.000000   \n",
            "25%           NaN             NaN    NaN           NaN      0.000000   \n",
            "50%           NaN             NaN    NaN           NaN      1.000000   \n",
            "75%           NaN             NaN    NaN           NaN      1.000000   \n",
            "max           NaN             NaN    NaN           NaN      1.000000   \n",
            "\n",
            "       NumberCarsOwned NumberChildrenAtHome TotalChildren   YearlyIncome  \\\n",
            "count     18361.000000         18361.000000  18361.000000   18361.000000   \n",
            "unique             NaN                  NaN           NaN            NaN   \n",
            "top                NaN                  NaN           NaN            NaN   \n",
            "freq               NaN                  NaN           NaN            NaN   \n",
            "mean          1.270301             0.338162      0.850389   72754.779642   \n",
            "std           0.913989             0.568957      0.927315   30686.014313   \n",
            "min           0.000000             0.000000      0.000000   25435.000000   \n",
            "25%           1.000000             0.000000      0.000000   53312.000000   \n",
            "50%           1.000000             0.000000      0.000000   61851.000000   \n",
            "75%           2.000000             1.000000      2.000000   87410.000000   \n",
            "max           5.000000             3.000000      3.000000  139115.000000   \n",
            "\n",
            "        LastUpdated  \n",
            "count         18361  \n",
            "unique            2  \n",
            "top      2017-03-06  \n",
            "freq          18291  \n",
            "mean            NaN  \n",
            "std             NaN  \n",
            "min             NaN  \n",
            "25%             NaN  \n",
            "50%             NaN  \n",
            "75%             NaN  \n",
            "max             NaN  \n",
            "\n",
            "[11 rows x 24 columns]\n",
            "(18361, 9)\n",
            "<class 'pandas.core.frame.DataFrame'>\n",
            "RangeIndex: 18361 entries, 0 to 18360\n",
            "Data columns (total 9 columns):\n",
            " #   Column           Non-Null Count  Dtype \n",
            "---  ------           --------------  ----- \n",
            " 0   BirthDate        18361 non-null  object\n",
            " 1   Gender           18361 non-null  object\n",
            " 2   MaritalStatus    18361 non-null  object\n",
            " 3   YearlyIncome     18361 non-null  int64 \n",
            " 4   HomeOwnerFlag    18361 non-null  int64 \n",
            " 5   NumberCarsOwned  18361 non-null  int64 \n",
            " 6   TotalChildren    18361 non-null  int64 \n",
            " 7   Education        18361 non-null  object\n",
            " 8   Occupation       18361 non-null  object\n",
            "dtypes: int64(4), object(5)\n",
            "memory usage: 1.3+ MB\n",
            "None\n",
            "         BirthDate Gender MaritalStatus   YearlyIncome  HomeOwnerFlag  \\\n",
            "count        18361  18361         18361   18361.000000   18361.000000   \n",
            "unique        8230      2             2            NaN            NaN   \n",
            "top     1987-05-14      M             M            NaN            NaN   \n",
            "freq            11   9287          9947            NaN            NaN   \n",
            "mean           NaN    NaN           NaN   72754.779642       0.610588   \n",
            "std            NaN    NaN           NaN   30686.014313       0.487630   \n",
            "min            NaN    NaN           NaN   25435.000000       0.000000   \n",
            "25%            NaN    NaN           NaN   53312.000000       0.000000   \n",
            "50%            NaN    NaN           NaN   61851.000000       1.000000   \n",
            "75%            NaN    NaN           NaN   87410.000000       1.000000   \n",
            "max            NaN    NaN           NaN  139115.000000       1.000000   \n",
            "\n",
            "        NumberCarsOwned  TotalChildren  Education      Occupation  \n",
            "count      18361.000000   18361.000000      18361           18361  \n",
            "unique              NaN            NaN          5               5  \n",
            "top                 NaN            NaN  Bachelors  Skilled Manual  \n",
            "freq                NaN            NaN       5325            6059  \n",
            "mean           1.270301       0.850389        NaN             NaN  \n",
            "std            0.913989       0.927315        NaN             NaN  \n",
            "min            0.000000       0.000000        NaN             NaN  \n",
            "25%            1.000000       0.000000        NaN             NaN  \n",
            "50%            1.000000       0.000000        NaN             NaN  \n",
            "75%            2.000000       2.000000        NaN             NaN  \n",
            "max            5.000000       3.000000        NaN             NaN  \n"
          ]
        }
      ],
      "source": [
        "df_original=pd.read_csv(\"AWCustomers.csv\")\n",
        "print(df_original.shape)\n",
        "print(df_original.info())\n",
        "print(df_original.describe(include='all'))\n",
        "\n",
        "selected_features = [\n",
        "    'BirthDate',\n",
        "    'Gender',\n",
        "    'MaritalStatus',\n",
        "    'YearlyIncome',\n",
        "    'HomeOwnerFlag',\n",
        "    'NumberCarsOwned',\n",
        "    'TotalChildren',\n",
        "    'Education',\n",
        "    'Occupation'\n",
        "]\n",
        "selected_df = df_original[selected_features].copy()\n",
        "print(selected_df.shape)\n",
        "print(selected_df.info())\n",
        "print(selected_df.describe(include='all'))"
      ]
    },
    {
      "cell_type": "markdown",
      "metadata": {
        "id": "ei3Om_QfRJ8E"
      },
      "source": [
        "(b) Create a new Data Frame with the selected attributes only.\n"
      ]
    },
    {
      "cell_type": "code",
      "execution_count": 9,
      "metadata": {
        "colab": {
          "base_uri": "https://localhost:8080/"
        },
        "id": "nV_RlavRRQ7P",
        "outputId": "bc749b7f-6799-4e42-ebbe-0b91b769bdb6"
      },
      "outputs": [
        {
          "name": "stdout",
          "output_type": "stream",
          "text": [
            "    BirthDate Gender MaritalStatus  YearlyIncome  HomeOwnerFlag  \\\n",
            "0  1987-11-13      M             M         81916              1   \n",
            "1  1972-07-21      M             M         81076              1   \n",
            "2  1985-11-09      F             S         86387              0   \n",
            "3  1977-10-18      M             M         61481              1   \n",
            "4  1975-02-05      M             S         51804              1   \n",
            "\n",
            "   NumberCarsOwned  TotalChildren        Education      Occupation  \n",
            "0                3              1        Bachelors        Clerical  \n",
            "1                2              2  Partial College        Clerical  \n",
            "2                3              0        Bachelors        Clerical  \n",
            "3                2              2  Partial College  Skilled Manual  \n",
            "4                1              0  Partial College  Skilled Manual  \n"
          ]
        }
      ],
      "source": [
        "df=pd.DataFrame(selected_df)\n",
        "print(df.head())"
      ]
    },
    {
      "cell_type": "markdown",
      "metadata": {
        "id": "k5yYQzPmRPuk"
      },
      "source": [
        "(c) Determine a Data value type (Discrete, or Continuous, then Nominal, Ordinal, Interval, Ratio) of\n",
        "each attribute in your selection to identify preprocessing tasks to create input for your data mining.\n"
      ]
    },
    {
      "cell_type": "code",
      "execution_count": 10,
      "metadata": {
        "colab": {
          "base_uri": "https://localhost:8080/"
        },
        "id": "UcOQCqd1RZJW",
        "outputId": "d46cb20d-ad63-4097-c2d8-bfa22fdcbd9a"
      },
      "outputs": [
        {
          "name": "stdout",
          "output_type": "stream",
          "text": [
            "BirthDate: Continuous-date\n",
            "Gender: Nominal\n",
            "MaritalStatus: Nominal\n",
            "YearlyIncome: Continuous-ratio\n",
            "HomeOwnerFlag: Binary\n",
            "NumberCarsOwned: Discrete-ratio\n",
            "TotalChildren: Discrete-ratio\n",
            "Education: Ordinal\n",
            "Occupation: Nominal\n"
          ]
        }
      ],
      "source": [
        "data_types = {\n",
        "        'BirthDate': 'Continuous-date',           # (convert)\n",
        "        'Gender': 'Nominal',                      # (One-Hot)\n",
        "        'MaritalStatus': 'Nominal',               # (One-Hot)\n",
        "        'YearlyIncome': 'Continuous-ratio',       # (Standardize and Normalize)\n",
        "        'HomeOwnerFlag': 'Binary',                # (keep)\n",
        "        'NumberCarsOwned': 'Discrete-ratio',      # (Standardize)\n",
        "        'TotalChildren': 'Discrete-ratio',        # (Standardize)\n",
        "        'Education': 'Ordinal',                   # (Label Encode)\n",
        "        'Occupation': 'Nominal'                   # (One-Hot)\n",
        "      }\n",
        "for col,dtype in data_types.items():\n",
        "  print(f\"{col}: {dtype}\")"
      ]
    },
    {
      "cell_type": "markdown",
      "metadata": {
        "id": "Rmn3ZBh-Rj5Z"
      },
      "source": [
        "**Part II: Data Preprocessing and Transformation**"
      ]
    },
    {
      "cell_type": "markdown",
      "metadata": {
        "id": "BBkHco6_Ro1p"
      },
      "source": [
        "Depending on the data type of each attribute, transform each object from your preprocessed data.\n",
        "Use all the data rows (~= 18000 rows) with the selected features as input to apply all the tasks below, do\n",
        "not perform each task on the smaller data set that you got from your random sampling result.\n"
      ]
    },
    {
      "cell_type": "markdown",
      "metadata": {
        "id": "266RJ9YKRuXo"
      },
      "source": [
        "(a) Handling Null values\n",
        "\n",
        "(b) Normalization\n",
        "\n",
        "(c) Discretization (Binning) on Continuous attributes or Categorical Attributes with too many different values\n",
        "\n",
        "(d) Standardization/Normalization\n",
        "\n",
        "(e) Binarization (One Hot Encoding)"
      ]
    },
    {
      "cell_type": "code",
      "execution_count": 11,
      "metadata": {
        "colab": {
          "base_uri": "https://localhost:8080/"
        },
        "id": "jT7PfOLEuFXC",
        "outputId": "80a068af-3713-4157-b047-6eec37f5acdb"
      },
      "outputs": [
        {
          "name": "stdout",
          "output_type": "stream",
          "text": [
            "\n",
            "Transformed DataFrame (first 5 rows):\n",
            "   YearlyIncome  HomeOwnerFlag  NumberCarsOwned  TotalChildren  Education  \\\n",
            "0      0.298555              1         1.892524       0.161342          0   \n",
            "1      0.271180              1         0.798389       1.239753          3   \n",
            "2      0.444261              0         1.892524      -0.917069          0   \n",
            "3     -0.367401              1         0.798389       1.239753          3   \n",
            "4     -0.682765              1        -0.295746      -0.917069          3   \n",
            "\n",
            "        Age  Gender_M  MaritalStatus_S  YearlyIncomeBinned  \\\n",
            "0  0.183099      True            False                 3.0   \n",
            "1  0.408451      True            False                 3.0   \n",
            "2  0.211268     False             True                 3.0   \n",
            "3  0.323944      True            False                 2.0   \n",
            "4  0.366197      True             True                 1.0   \n",
            "\n",
            "   Occupation_Management  Occupation_Manual  Occupation_Professional  \\\n",
            "0                  False              False                    False   \n",
            "1                  False              False                    False   \n",
            "2                  False              False                    False   \n",
            "3                  False              False                    False   \n",
            "4                  False              False                    False   \n",
            "\n",
            "   Occupation_Skilled Manual  \n",
            "0                      False  \n",
            "1                      False  \n",
            "2                      False  \n",
            "3                       True  \n",
            "4                       True  \n"
          ]
        }
      ],
      "source": [
        "new_df = df.copy()\n",
        "# print(df.isnull().sum())\n",
        "\n",
        "# 1. Convert BirthDate to Age (simple conversion)\n",
        "new_df['Age'] = (pd.to_datetime('today') - pd.to_datetime(new_df['BirthDate'],errors='coerce')).dt.days // 365\n",
        "new_df.drop('BirthDate',axis=1,inplace=True)\n",
        "\n",
        "# 2. Normalize Age to [0,1] range\n",
        "new_df['Age'] = MinMaxScaler().fit_transform(new_df[['Age']])\n",
        "\n",
        "# 3. One-hot encode Gender (transform to 0/1)\n",
        "gender_dummies = pd.get_dummies(new_df['Gender'],prefix='Gender',drop_first=True)\n",
        "new_df = pd.concat([new_df.drop('Gender',axis=1),gender_dummies],axis=1)\n",
        "\n",
        "# 4. One-hot encode MaritalStatus (transform to 0/1)\n",
        "marital_dummies = pd.get_dummies(new_df['MaritalStatus'],prefix='MaritalStatus',drop_first=True)\n",
        "new_df = pd.concat([new_df.drop('MaritalStatus',axis=1),marital_dummies],axis=1)\n",
        "\n",
        "# 5. Discretize YearlyIncome into 5 bins\n",
        "binner = KBinsDiscretizer(n_bins=5,encode='ordinal',strategy='quantile')\n",
        "new_df['YearlyIncomeBinned'] = binner.fit_transform(new_df[['YearlyIncome']])\n",
        "\n",
        "# 6. Standardize YearlyIncome (original continuous version)\n",
        "new_df['YearlyIncome'] = StandardScaler().fit_transform(new_df[['YearlyIncome']])\n",
        "\n",
        "# 7. Standardize NumberCarsOwned\n",
        "new_df['NumberCarsOwned'] = StandardScaler().fit_transform(new_df[['NumberCarsOwned']])\n",
        "\n",
        "# 8. Standardize TotalChildren\n",
        "new_df['TotalChildren'] = StandardScaler().fit_transform(new_df[['TotalChildren']])\n",
        "\n",
        "# 9. Label encode Education\n",
        "new_df['Education'] = LabelEncoder().fit_transform(new_df['Education'])\n",
        "\n",
        "# 10. One-hot encode Occupation\n",
        "occupation_dummies = pd.get_dummies(new_df['Occupation'], prefix='Occupation', drop_first=True)\n",
        "new_df = pd.concat([new_df.drop('Occupation', axis=1), occupation_dummies], axis=1)\n",
        "\n",
        "# Display the transformed DataFrame\n",
        "print(\"\\nTransformed DataFrame (first 5 rows):\")\n",
        "print(new_df.head())"
      ]
    },
    {
      "cell_type": "markdown",
      "metadata": {
        "id": "oXoddEebSL0y"
      },
      "source": [
        "**Part III: Calculating Proximity /Correlation Analysis of two features**"
      ]
    },
    {
      "cell_type": "markdown",
      "metadata": {
        "id": "LFymzAy5SQnh"
      },
      "source": [
        "Make sure each attribute is transformed in a same scale for numeric attributes and Binarization for each\n",
        "nominal attribute, and each discretized numeric attribute to standardization. Make sure to apply a correct\n",
        "similarity measure for nominal (one hot encoding)/binary attributes and numeric attributes respectively."
      ]
    },
    {
      "cell_type": "markdown",
      "metadata": {
        "id": "LExScM00SVmv"
      },
      "source": [
        "(a) Calculate Similarity in Simple Matching, Jaccard Similarity, and Cosine Similarity between two following objects of your transformed input data."
      ]
    },
    {
      "cell_type": "code",
      "execution_count": 12,
      "metadata": {
        "colab": {
          "base_uri": "https://localhost:8080/"
        },
        "id": "GcqqsagUSa1v",
        "outputId": "20e1fa52-b90c-4ab5-a409-ee6f07f61f52"
      },
      "outputs": [
        {
          "name": "stdout",
          "output_type": "stream",
          "text": [
            "Simple Matching Coefficient: 0.6153846153846154\n",
            "Jaccard Similarity: 1.0\n",
            "Cosine Similarity: 0.7081006666266153\n"
          ]
        }
      ],
      "source": [
        "# Pick two sample objects (rows) from the transformed dataset\n",
        "obj1 = new_df.iloc[0]\n",
        "obj2 = new_df.iloc[1]\n",
        "\n",
        "# Simple Matching Coefficient (SMC)\n",
        "def simple_matching(x,y):\n",
        "    return np.sum(x == y)/len(x)\n",
        "\n",
        "smc = simple_matching(obj1,obj2)\n",
        "\n",
        "# Jaccard Similarity (only for binary attributes)\n",
        "def jaccard_similarity(x,y):\n",
        "    intersection = np.sum((x==1)&(y==1))\n",
        "    union = np.sum((x==1)|(y==1))\n",
        "    return intersection/union if union != 0 else 0\n",
        "\n",
        "# We restrict Jaccard to one-hot encoded / binary columns\n",
        "binary_cols = [col for col in new_df.columns if set(new_df[col].unique()).issubset({0,1})]\n",
        "jac = jaccard_similarity(new_df[binary_cols].iloc[0],new_df[binary_cols].iloc[1])\n",
        "\n",
        "# Cosine Similarity\n",
        "cos_sim = cosine_similarity([obj1],[obj2])[0][0]\n",
        "\n",
        "print(\"Simple Matching Coefficient:\", smc)\n",
        "print(\"Jaccard Similarity:\", jac)\n",
        "print(\"Cosine Similarity:\", cos_sim)"
      ]
    },
    {
      "cell_type": "markdown",
      "metadata": {
        "id": "so3sEdsHSbNo"
      },
      "source": [
        "(b) Calculate Correlation between two features Commute Distance and Yearly Income"
      ]
    },
    {
      "cell_type": "code",
      "execution_count": 13,
      "metadata": {
        "colab": {
          "base_uri": "https://localhost:8080/"
        },
        "id": "yllrfek6Se9C",
        "outputId": "16581676-f1ee-47fb-e6c8-1e0cb0d4e994"
      },
      "outputs": [
        {
          "name": "stdout",
          "output_type": "stream",
          "text": [
            "CommuteDistance column not found in dataset.\n"
          ]
        }
      ],
      "source": [
        "# Correlation between CommuteDistance and YearlyIncome\n",
        "if 'CommuteDistance' in df_original.columns and 'YearlyIncome' in df_original.columns:\n",
        "    correlation = df_original['CommuteDistance'].astype('category').cat.codes.corr(df_original['YearlyIncome'])\n",
        "    print(\"Correlation between Commute Distance and Yearly Income:\", correlation)\n",
        "else:\n",
        "    print(\"CommuteDistance column not found in dataset.\")"
      ]
    }
  ],
  "metadata": {
    "colab": {
      "provenance": []
    },
    "kernelspec": {
      "display_name": "Python 3",
      "name": "python3"
    },
    "language_info": {
      "name": "python"
    }
  },
  "nbformat": 4,
  "nbformat_minor": 0
}
